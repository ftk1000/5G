{
  "nbformat": 4,
  "nbformat_minor": 0,
  "metadata": {
    "colab": {
      "name": "Copy of parse_3gpp_v2.ipynb",
      "provenance": [],
      "collapsed_sections": [],
      "toc_visible": true,
      "include_colab_link": true
    },
    "kernelspec": {
      "name": "python3",
      "display_name": "Python 3"
    }
  },
  "cells": [
    {
      "cell_type": "markdown",
      "metadata": {
        "id": "view-in-github",
        "colab_type": "text"
      },
      "source": [
        "<a href=\"https://colab.research.google.com/github/ftk1000/5G/blob/master/parse_3gpp_v2b.ipynb\" target=\"_parent\"><img src=\"https://colab.research.google.com/assets/colab-badge.svg\" alt=\"Open In Colab\"/></a>"
      ]
    },
    {
      "cell_type": "markdown",
      "metadata": {
        "id": "GsN_lkIyCLfw",
        "colab_type": "text"
      },
      "source": [
        "# Parse 3GPP document\n",
        "2020.08.19\n",
        "\n",
        "parse_3gpp_v2.ipynb"
      ]
    },
    {
      "cell_type": "code",
      "metadata": {
        "id": "6Q9Bo-aGP5wJ",
        "colab_type": "code",
        "colab": {}
      },
      "source": [
        "# -*- coding: utf-8 -*-\n",
        "# parse_3gpp_v2.py\n",
        "# 2020.08.19\n",
        "#---------------------------------------------\n",
        "#  README:\n",
        "#---------------------------------------------\n",
        "#prepare data set : parse 3GPP 36523-1-f00_s07_01.txt and \n",
        "#extract sentences corresponding to \"test case name\", \"with\", \"when\", \"then\"\n",
        "#\n",
        "# SOURCE DOCUMENT\n",
        "# LTE; Evolved Universal Terrestrial Radio Access (E-UTRA) and Evolved Packet Core (EPC);\n",
        "# User Equipment (UE) conformance specification; Part 1: Protocol conformance specification\n",
        "# 3GPP TS 36.523-1\n",
        "\n",
        "# downloaded *.DOC files are here:  .\\36523-1-f00.zip\n",
        "# we will use only of them converted to TXT format#\n",
        "#INPUT DATA:\n",
        "#.\\36523-1-f00_s07_01.txt\n",
        "#\n",
        "#36523-1-f00_s07_01.txt files was generated from \n",
        "#36523-1-f00_s07_01.DOC file located in\n",
        "#\n",
        "#OUTPUT:\n",
        "#.\\36523-1-f00_s07_01_tests.csv   "
      ],
      "execution_count": 3,
      "outputs": []
    },
    {
      "cell_type": "code",
      "metadata": {
        "id": "3ip7c2QXQbJr",
        "colab_type": "code",
        "colab": {
          "base_uri": "https://localhost:8080/",
          "height": 255
        },
        "outputId": "316770fa-ef94-413b-dcb3-9ecf3ecb7827"
      },
      "source": [
        "### Here are the instructions how to read a file from Gdrive\n",
        "# https://buomsoo-kim.github.io/colab/2018/04/16/Importing-files-from-Google-Drive-in-Google-Colab.md/\n",
        "\n",
        "# SOURCE DOCUMENT\n",
        "# LTE; Evolved Universal Terrestrial Radio Access (E-UTRA) and Evolved Packet Core (EPC);\n",
        "# User Equipment (UE) conformance specification; Part 1: Protocol conformance specification\n",
        "# 3GPP TS 36.523-1\n",
        "\n",
        "# downloaded *.DOC files are here:  C:\\Users\\khafifa\\Downloads\\36523-1-f00.zip\n",
        "# we will use only of them converted to TXT format\n",
        "file_name = wd+'36523-1-f00_s07_01.txt'\n",
        "\n",
        "# shareble_link = 'https://drive.google.com/file/d/1jNGAf5O6U4Cr4GbWK_DpCxIuxv7-BQ2c/view?usp=sharing';  file_id = '1jNGAf5O6U4Cr4GbWK_DpCxIuxv7-BQ2c'\n",
        "shareble_link = 'https://drive.google.com/file/d/0B1Iyay9XxksvMG9wLUpFQm1Hbnc/view?usp=sharing';  file_id = '0B1Iyay9XxksvMG9wLUpFQm1Hbnc'\n",
        "\n",
        "!pip install PyDrive\n",
        "from pydrive.auth import GoogleAuth\n",
        "from pydrive.drive import GoogleDrive\n",
        "from google.colab import auth\n",
        "from oauth2client.client import GoogleCredentials"
      ],
      "execution_count": 4,
      "outputs": [
        {
          "output_type": "stream",
          "text": [
            "Requirement already satisfied: PyDrive in /usr/local/lib/python3.6/dist-packages (1.3.1)\n",
            "Requirement already satisfied: PyYAML>=3.0 in /usr/local/lib/python3.6/dist-packages (from PyDrive) (3.13)\n",
            "Requirement already satisfied: oauth2client>=4.0.0 in /usr/local/lib/python3.6/dist-packages (from PyDrive) (4.1.3)\n",
            "Requirement already satisfied: google-api-python-client>=1.2 in /usr/local/lib/python3.6/dist-packages (from PyDrive) (1.7.12)\n",
            "Requirement already satisfied: pyasn1>=0.1.7 in /usr/local/lib/python3.6/dist-packages (from oauth2client>=4.0.0->PyDrive) (0.4.8)\n",
            "Requirement already satisfied: pyasn1-modules>=0.0.5 in /usr/local/lib/python3.6/dist-packages (from oauth2client>=4.0.0->PyDrive) (0.2.8)\n",
            "Requirement already satisfied: rsa>=3.1.4 in /usr/local/lib/python3.6/dist-packages (from oauth2client>=4.0.0->PyDrive) (4.6)\n",
            "Requirement already satisfied: six>=1.6.1 in /usr/local/lib/python3.6/dist-packages (from oauth2client>=4.0.0->PyDrive) (1.15.0)\n",
            "Requirement already satisfied: httplib2>=0.9.1 in /usr/local/lib/python3.6/dist-packages (from oauth2client>=4.0.0->PyDrive) (0.17.4)\n",
            "Requirement already satisfied: uritemplate<4dev,>=3.0.0 in /usr/local/lib/python3.6/dist-packages (from google-api-python-client>=1.2->PyDrive) (3.0.1)\n",
            "Requirement already satisfied: google-auth-httplib2>=0.0.3 in /usr/local/lib/python3.6/dist-packages (from google-api-python-client>=1.2->PyDrive) (0.0.4)\n",
            "Requirement already satisfied: google-auth>=1.4.1 in /usr/local/lib/python3.6/dist-packages (from google-api-python-client>=1.2->PyDrive) (1.17.2)\n",
            "Requirement already satisfied: setuptools>=40.3.0 in /usr/local/lib/python3.6/dist-packages (from google-auth>=1.4.1->google-api-python-client>=1.2->PyDrive) (49.2.0)\n",
            "Requirement already satisfied: cachetools<5.0,>=2.0.0 in /usr/local/lib/python3.6/dist-packages (from google-auth>=1.4.1->google-api-python-client>=1.2->PyDrive) (4.1.1)\n"
          ],
          "name": "stdout"
        }
      ]
    },
    {
      "cell_type": "code",
      "metadata": {
        "id": "3fb8YIa7wBBN",
        "colab_type": "code",
        "colab": {}
      },
      "source": [
        "\n",
        "\n"
      ],
      "execution_count": 4,
      "outputs": []
    },
    {
      "cell_type": "code",
      "metadata": {
        "id": "7ZfDJ3pLCR_V",
        "colab_type": "code",
        "colab": {}
      },
      "source": [
        ""
      ],
      "execution_count": null,
      "outputs": []
    },
    {
      "cell_type": "code",
      "metadata": {
        "id": "lxm2eYKDEWPe",
        "colab_type": "code",
        "colab": {
          "base_uri": "https://localhost:8080/",
          "height": 278
        },
        "outputId": "b7eee9cb-010b-4ca4-94cc-6e3ca3eae60a"
      },
      "source": [
        ""
      ],
      "execution_count": null,
      "outputs": [
        {
          "output_type": "stream",
          "text": [
            "Requirement already satisfied: PyDrive in /usr/local/lib/python3.6/dist-packages (1.3.1)\n",
            "Requirement already satisfied: PyYAML>=3.0 in /usr/local/lib/python3.6/dist-packages (from PyDrive) (3.13)\n",
            "Requirement already satisfied: oauth2client>=4.0.0 in /usr/local/lib/python3.6/dist-packages (from PyDrive) (4.1.3)\n",
            "Requirement already satisfied: google-api-python-client>=1.2 in /usr/local/lib/python3.6/dist-packages (from PyDrive) (1.7.12)\n",
            "Requirement already satisfied: httplib2>=0.9.1 in /usr/local/lib/python3.6/dist-packages (from oauth2client>=4.0.0->PyDrive) (0.17.4)\n",
            "Requirement already satisfied: six>=1.6.1 in /usr/local/lib/python3.6/dist-packages (from oauth2client>=4.0.0->PyDrive) (1.15.0)\n",
            "Requirement already satisfied: pyasn1-modules>=0.0.5 in /usr/local/lib/python3.6/dist-packages (from oauth2client>=4.0.0->PyDrive) (0.2.8)\n",
            "Requirement already satisfied: pyasn1>=0.1.7 in /usr/local/lib/python3.6/dist-packages (from oauth2client>=4.0.0->PyDrive) (0.4.8)\n",
            "Requirement already satisfied: rsa>=3.1.4 in /usr/local/lib/python3.6/dist-packages (from oauth2client>=4.0.0->PyDrive) (4.6)\n",
            "Requirement already satisfied: google-auth-httplib2>=0.0.3 in /usr/local/lib/python3.6/dist-packages (from google-api-python-client>=1.2->PyDrive) (0.0.4)\n",
            "Requirement already satisfied: uritemplate<4dev,>=3.0.0 in /usr/local/lib/python3.6/dist-packages (from google-api-python-client>=1.2->PyDrive) (3.0.1)\n",
            "Requirement already satisfied: google-auth>=1.4.1 in /usr/local/lib/python3.6/dist-packages (from google-api-python-client>=1.2->PyDrive) (1.17.2)\n",
            "Requirement already satisfied: setuptools>=40.3.0 in /usr/local/lib/python3.6/dist-packages (from google-auth>=1.4.1->google-api-python-client>=1.2->PyDrive) (49.2.0)\n",
            "Requirement already satisfied: cachetools<5.0,>=2.0.0 in /usr/local/lib/python3.6/dist-packages (from google-auth>=1.4.1->google-api-python-client>=1.2->PyDrive) (4.1.1)\n"
          ],
          "name": "stdout"
        }
      ]
    },
    {
      "cell_type": "code",
      "metadata": {
        "id": "85veE2LzEZH9",
        "colab_type": "code",
        "colab": {}
      },
      "source": [
        "from pydrive.auth import GoogleAuth\n",
        "from pydrive.drive import GoogleDrive\n",
        "from google.colab import auth\n",
        "from oauth2client.client import GoogleCredentials"
      ],
      "execution_count": null,
      "outputs": []
    },
    {
      "cell_type": "markdown",
      "metadata": {
        "id": "lGqlRJBZEsMe",
        "colab_type": "text"
      },
      "source": [
        "# Authenticate, create the PyDrive client, and READ DATA"
      ]
    },
    {
      "cell_type": "code",
      "metadata": {
        "id": "MM6kog8hEect",
        "colab_type": "code",
        "colab": {}
      },
      "source": [
        "#see Step 6 https://buomsoo-kim.github.io/colab/2018/04/16/Importing-files-from-Google-Drive-in-Google-Colab.md/\n",
        "auth.authenticate_user()\n",
        "gauth = GoogleAuth()\n",
        "gauth.credentials = GoogleCredentials.get_application_default()\n",
        "drive = GoogleDrive(gauth)"
      ],
      "execution_count": null,
      "outputs": []
    },
    {
      "cell_type": "code",
      "metadata": {
        "id": "vx_HHdnuEzXG",
        "colab_type": "code",
        "colab": {}
      },
      "source": [
        "downloaded = drive.CreateFile({'id':file_id})   # replace the id with id of file you want to access\n",
        "downloaded.GetContentFile('36523-1-f00_s07_01.txt') "
      ],
      "execution_count": null,
      "outputs": []
    },
    {
      "cell_type": "code",
      "metadata": {
        "id": "DGds5v-eFOi1",
        "colab_type": "code",
        "colab": {
          "base_uri": "https://localhost:8080/",
          "height": 34
        },
        "outputId": "9122175c-acf0-4d31-f310-6e80fc3da65a"
      },
      "source": [
        "# to deal with non-ascii codes read this\n",
        "# https://stackoverflow.com/questions/22216076/unicodedecodeerror-utf8-codec-cant-decode-byte-0xa5-in-position-0-invalid-s\n",
        "# import codecs      # f = codecs.open(file_name, \"r\", encoding= 'unicode_escape')\n",
        "file_name = '36523-1-f00_s07_01.txt'\n",
        "with open(file=file_name, mode='r', encoding='unicode_escape') as f:\n",
        "    lines = f.readlines()\n",
        "f.close()\n",
        "len(lines)"
      ],
      "execution_count": null,
      "outputs": [
        {
          "output_type": "execute_result",
          "data": {
            "text/plain": [
              "102056"
            ]
          },
          "metadata": {
            "tags": []
          },
          "execution_count": 7
        }
      ]
    },
    {
      "cell_type": "code",
      "metadata": {
        "id": "hvNN6XJpSD2p",
        "colab_type": "code",
        "colab": {}
      },
      "source": [
        "import numpy as np\n",
        "import pandas as pd\n",
        "import string\n",
        "import random\n",
        "\n",
        "wd = 'C:\\\\Users\\\\Farid Khafizov\\\\Downloads\\\\'\n",
        "file_name = '36523-1-f00_s07_01.txt'\n",
        "\n",
        "with open(file=wd+file_name, mode='r', encoding='unicode_escape') as f:\n",
        "    lines = f.readlines()\n",
        "f.close()\n",
        "print(len(lines))\n",
        "#%%\n",
        "printable = set(string.printable)\n",
        "lines2 = [  ''.join(filter(lambda x: x in printable, s)) for s in lines  ]\n",
        "print(len(lines2))"
      ],
      "execution_count": null,
      "outputs": []
    },
    {
      "cell_type": "markdown",
      "metadata": {
        "id": "0EWKProuSBUh",
        "colab_type": "text"
      },
      "source": [
        "# TAKE A LOOK AT DATA"
      ]
    },
    {
      "cell_type": "code",
      "metadata": {
        "id": "-aRUvV7jR2OD",
        "colab_type": "code",
        "colab": {
          "base_uri": "https://localhost:8080/",
          "height": 258
        },
        "outputId": "ab7e9220-906a-45b5-b4d8-ea3508c7f9a9"
      },
      "source": [
        "# Show a few lines describing a test case\n",
        "k=218\n",
        "lines[k-4:k+10]"
      ],
      "execution_count": null,
      "outputs": [
        {
          "output_type": "execute_result",
          "data": {
            "text/plain": [
              "['\\n',\n",
              " '7.1.1.1.3.3\\tSpecific message contents\\n',\n",
              " 'None.\\n',\n",
              " '7.1.1.1a\\tCCCH mapped to UL SCH/ DL-SCH / UE Cat 0\\n',\n",
              " '7.1.1.1a.1\\tTest Purpose (TP)\\n',\n",
              " '(1)\\n',\n",
              " 'with { UE in E-UTRA RRC_IDLE state }\\n',\n",
              " 'ensure that {\\n',\n",
              " '  when { UE receives a Paging message including a matched identity }\\n',\n",
              " '    then { UE responds with a RRCConnectionRequest message in a MAC PDU on UL SCH on CCCH indicating LCID \\x9201011\\x92  }\\n',\n",
              " '            }\\n',\n",
              " '\\n',\n",
              " '7.1.1.1a.2\\tConformance requirements\\n',\n",
              " 'References: The conformance requirements covered in the current TC are specified in: TS 36.321, clause 5.3.3, 5.11, 6.1.2 and 6.2.1.\\n']"
            ]
          },
          "metadata": {
            "tags": []
          },
          "execution_count": 15
        }
      ]
    },
    {
      "cell_type": "code",
      "metadata": {
        "id": "IGupeoExR7bQ",
        "colab_type": "code",
        "colab": {
          "base_uri": "https://localhost:8080/",
          "height": 52
        },
        "outputId": "b73b9e6b-737c-420a-99a7-667b6a808e91"
      },
      "source": [
        "# Some 'with' are followed by '{', some by '('\n",
        "print(lines[220].strip())\n",
        "print(lines[16000].strip())"
      ],
      "execution_count": null,
      "outputs": [
        {
          "output_type": "stream",
          "text": [
            "with { UE in E-UTRA RRC_IDLE state }\n",
            "with ( UE in E-UTRA RRC_CONNECTED state )\n"
          ],
          "name": "stdout"
        }
      ]
    },
    {
      "cell_type": "markdown",
      "metadata": {
        "id": "4mXvbTr7w5Xz",
        "colab_type": "text"
      },
      "source": [
        "# PARSING/SEARCH/REGEX FUNCTIONS"
      ]
    },
    {
      "cell_type": "code",
      "metadata": {
        "id": "eYEveiHIw4Jw",
        "colab_type": "code",
        "colab": {
          "base_uri": "https://localhost:8080/",
          "height": 72
        },
        "outputId": "d783c393-85cf-4708-abaa-4a2806887eeb"
      },
      "source": [
        "# find line numbers that contain PATTERN\n",
        "def find_lineNums(lines, pattern):\n",
        "    test_idx = []\n",
        "    for i in range(len(lines)):\n",
        "      line = lines[i].strip();  # print(line)\n",
        "      if line.find(pattern) >=0 :\n",
        "        test_idx.append(i)\n",
        "    return test_idx\n",
        "\n",
        "PATTERN = \"Test Purpose (TP)\"\n",
        "test_idx = find_lineNums(lines=lines, pattern= PATTERN)    \n",
        "print(test_idx)\n",
        "print(\"patterns found =\",len(test_idx))"
      ],
      "execution_count": null,
      "outputs": [
        {
          "output_type": "stream",
          "text": [
            "[36, 218, 352, 508, 873, 1087, 1243, 1596, 1949, 2241, 2621, 2782, 2973, 3196, 3435, 3725, 4275, 5016, 5605, 5754, 6360, 6621, 6707, 6933, 7193, 7507, 7807, 8127, 8250, 8544, 9076, 9544, 10221, 10660, 11099, 11743, 12380, 12620, 13509, 13656, 14067, 14273, 15027, 15295, 15383, 15532, 15998, 16568, 16809, 17228, 17548, 17768, 18205, 18605, 18918, 19220, 19883, 20194, 20455, 20758, 21173, 21646, 21989, 22399, 22661, 23370, 23385, 23748, 24075, 24312, 24649, 24963, 25424, 25460, 25765, 26315, 26532, 26903, 27753, 27920, 28137, 28320, 28428, 28535, 28926, 29245, 29564, 29878, 30213, 30548, 34821, 38947, 43126, 47278, 51785, 56037, 61926, 67310, 72686, 78107, 83529, 84824, 86116, 92189, 93231, 94224, 98418, 99255, 99901, 100314, 100705, 101044, 101333, 101881]\n",
            "patterns found = 114\n"
          ],
          "name": "stdout"
        }
      ]
    },
    {
      "cell_type": "code",
      "metadata": {
        "id": "qdlHsACwKqQS",
        "colab_type": "code",
        "colab": {
          "base_uri": "https://localhost:8080/",
          "height": 172
        },
        "outputId": "98cfd2b3-e9ad-45cf-ad7a-5b7bb47f872c"
      },
      "source": [
        "import re\n",
        "# search for \"(4)\", \"(12)\", etc\n",
        "R = re.compile(r\"^\\(\\d+\\)\")\n",
        "\n",
        "# keep looking for '(\\d)' until find END='Conformance requirements'\n",
        "# save line number for each match including the END \n",
        "def find_idx_subtests(ix1,ix2):\n",
        "  ix_subtest = []\n",
        "  for i in range(ix1,ix2):\n",
        "    M = R.search(lines[i])\n",
        "    if M:\n",
        "      ix_subtest.append(i)\n",
        "      # print('==> lineNum =',i, \"  line=\", lines[i].strip())\n",
        "    if lines[i].find(\"Conformance requirements\") >=0 :\n",
        "        ix_subtest.append(i)   \n",
        "        break;\n",
        "  return ix_subtest\n",
        "\n",
        "\n",
        "# test\n",
        "k=46\n",
        "ix1=test_idx[k]; ix2=test_idx[k+1]\n",
        "subtests = find_idx_subtests(ix1, ix2)  \n",
        "for p in range(len(subtests)):\n",
        "    print(subtests[p], '    ',lines[subtests[p]].strip() )  "
      ],
      "execution_count": null,
      "outputs": [
        {
          "output_type": "stream",
          "text": [
            "15999      (1)\n",
            "16006      (2)\n",
            "16013      (3)\n",
            "16020      (4)\n",
            "16026      (5)\n",
            "16033      (6)\n",
            "16039      (7)\n",
            "16045      (8)\n",
            "16052      7.1.4.6.2\tConformance requirements\n"
          ],
          "name": "stdout"
        }
      ]
    },
    {
      "cell_type": "code",
      "metadata": {
        "id": "d9_yKa55oi7e",
        "colab_type": "code",
        "colab": {}
      },
      "source": [
        "import pandas as pd\n",
        "d = pd.DataFrame(columns=['doc','test_sec', 'test_name', 'test_num',  'with', 'when', 'then'])\n",
        "doc_name = file_name.split('.')[0]"
      ],
      "execution_count": null,
      "outputs": []
    },
    {
      "cell_type": "code",
      "metadata": {
        "id": "wSujbbXCkwc8",
        "colab_type": "code",
        "colab": {}
      },
      "source": [
        "#%%  BUILD THE DATA BASE\n",
        "df_index = 0\n",
        "\n",
        "for k in range(len(test_idx)-1):\n",
        "    ix, ix2 =test_idx[k], test_idx[k+1] # get two test case locations\n",
        "    [sec_num, test_name] = lines[ix-1].strip().split('\\t')\n",
        "    ix_subtests = find_idx_subtests(ix,ix2)\n",
        "    for p in range(len(ix_subtests)-1):\n",
        "        index = ix_subtests[p]\n",
        "        \n",
        "        with_kw = when_kw = then_kw = ''\n",
        "        while index < ix_subtests[p+1]:\n",
        "            line = lines[index].strip()\n",
        "            if line.find('with') >=0 :\n",
        "                with_kw = line[len('with'):].strip()[1:-1].strip()\n",
        "            if line.find('when') >=0 :\n",
        "                when_kw = line[len('when'):].strip()[1:-1].strip()\n",
        "            if line.find('then') >=0 :\n",
        "                then_kw = line[len('then'):].strip()[1:-1].strip()\n",
        "            index += 1\n",
        "            \n",
        "        d.loc[df_index] = [doc_name, sec_num,  test_name, p+1, with_kw, when_kw, then_kw] \n",
        "        df_index += 1\n"
      ],
      "execution_count": null,
      "outputs": []
    },
    {
      "cell_type": "code",
      "metadata": {
        "id": "cX9W_RkDv8z-",
        "colab_type": "code",
        "colab": {
          "base_uri": "https://localhost:8080/",
          "height": 394
        },
        "outputId": "f190bafe-99d1-4dd9-f890-c68bebd95535"
      },
      "source": [
        "print(d.shape)\n",
        "d.head()"
      ],
      "execution_count": null,
      "outputs": [
        {
          "output_type": "stream",
          "text": [
            "(279, 7)\n"
          ],
          "name": "stdout"
        },
        {
          "output_type": "execute_result",
          "data": {
            "text/html": [
              "<div>\n",
              "<style scoped>\n",
              "    .dataframe tbody tr th:only-of-type {\n",
              "        vertical-align: middle;\n",
              "    }\n",
              "\n",
              "    .dataframe tbody tr th {\n",
              "        vertical-align: top;\n",
              "    }\n",
              "\n",
              "    .dataframe thead th {\n",
              "        text-align: right;\n",
              "    }\n",
              "</style>\n",
              "<table border=\"1\" class=\"dataframe\">\n",
              "  <thead>\n",
              "    <tr style=\"text-align: right;\">\n",
              "      <th></th>\n",
              "      <th>doc</th>\n",
              "      <th>test_sec</th>\n",
              "      <th>test_name</th>\n",
              "      <th>test_num</th>\n",
              "      <th>with</th>\n",
              "      <th>when</th>\n",
              "      <th>then</th>\n",
              "    </tr>\n",
              "  </thead>\n",
              "  <tbody>\n",
              "    <tr>\n",
              "      <th>0</th>\n",
              "      <td>36523-1-f00_s07_01</td>\n",
              "      <td>7.1.1.1</td>\n",
              "      <td>CCCH mapped to UL SCH/ DL-SCH / Reserved Logic...</td>\n",
              "      <td>1</td>\n",
              "      <td>UE in E-UTRA RRC_IDLE state and after transmit...</td>\n",
              "      <td>UE receives a MAC PDU on DL SCH and addressed ...</td>\n",
              "      <td>UE discards the MAC PDU</td>\n",
              "    </tr>\n",
              "    <tr>\n",
              "      <th>1</th>\n",
              "      <td>36523-1-f00_s07_01</td>\n",
              "      <td>7.1.1.1</td>\n",
              "      <td>CCCH mapped to UL SCH/ DL-SCH / Reserved Logic...</td>\n",
              "      <td>2</td>\n",
              "      <td>UE receives a MAC PDU on DL SCH and addressed ...</td>\n",
              "      <td>UE receives a MAC PDU on DL SCH and addressed ...</td>\n",
              "      <td>UE forwards to upper layers the disassembled a...</td>\n",
              "    </tr>\n",
              "    <tr>\n",
              "      <th>2</th>\n",
              "      <td>36523-1-f00_s07_01</td>\n",
              "      <td>7.1.1.1a</td>\n",
              "      <td>CCCH mapped to UL SCH/ DL-SCH / UE Cat 0</td>\n",
              "      <td>1</td>\n",
              "      <td>UE responds with a RRCConnectionRequest messag...</td>\n",
              "      <td>UE receives a Paging message including a match...</td>\n",
              "      <td>UE responds with a RRCConnectionRequest messag...</td>\n",
              "    </tr>\n",
              "    <tr>\n",
              "      <th>3</th>\n",
              "      <td>36523-1-f00_s07_01</td>\n",
              "      <td>7.1.1.2</td>\n",
              "      <td>DTCH or DCCH mapped to UL SCH/ DL-SCH / Reserv...</td>\n",
              "      <td>1</td>\n",
              "      <td>UE in E-UTRA RRC_Connected state with DRB [Log...</td>\n",
              "      <td>UE receives a MAC PDU on DL SCH and addressed ...</td>\n",
              "      <td>UE shall not forward the disassembled and demu...</td>\n",
              "    </tr>\n",
              "    <tr>\n",
              "      <th>4</th>\n",
              "      <td>36523-1-f00_s07_01</td>\n",
              "      <td>7.1.1.2</td>\n",
              "      <td>DTCH or DCCH mapped to UL SCH/ DL-SCH / Reserv...</td>\n",
              "      <td>2</td>\n",
              "      <td>UE receives a MAC PDU on DL SCH and addressed ...</td>\n",
              "      <td>UE receives a MAC PDU on DL SCH and addressed ...</td>\n",
              "      <td>UE shall forward the disassembled and demultip...</td>\n",
              "    </tr>\n",
              "  </tbody>\n",
              "</table>\n",
              "</div>"
            ],
            "text/plain": [
              "                  doc  ...                                               then\n",
              "0  36523-1-f00_s07_01  ...                            UE discards the MAC PDU\n",
              "1  36523-1-f00_s07_01  ...  UE forwards to upper layers the disassembled a...\n",
              "2  36523-1-f00_s07_01  ...  UE responds with a RRCConnectionRequest messag...\n",
              "3  36523-1-f00_s07_01  ...  UE shall not forward the disassembled and demu...\n",
              "4  36523-1-f00_s07_01  ...  UE shall forward the disassembled and demultip...\n",
              "\n",
              "[5 rows x 7 columns]"
            ]
          },
          "metadata": {
            "tags": []
          },
          "execution_count": 28
        }
      ]
    },
    {
      "cell_type": "code",
      "metadata": {
        "id": "5TeLUzfyUv2n",
        "colab_type": "code",
        "colab": {}
      },
      "source": [
        "wd='./'\n",
        "d.to_csv(wd+doc_name+'_tests.csv')"
      ],
      "execution_count": null,
      "outputs": []
    },
    {
      "cell_type": "markdown",
      "metadata": {
        "id": "H7V_Hho7UnPM",
        "colab_type": "text"
      },
      "source": [
        " # GENERATE TRAIN AND TEST SETS"
      ]
    },
    {
      "cell_type": "code",
      "metadata": {
        "id": "pmsD69flTgJc",
        "colab_type": "code",
        "colab": {}
      },
      "source": [
        "#%% GENERATE TRAIN AND TEST SETS\n",
        "import numpy as np\n",
        "txt = np.array(list(d['with'])    + list(d['when'])    + list(d['then']))\n",
        "lbl = np.array([0]*len(d['with']) + [1]*len(d['when']) + [2]*len(d['then']) )\n",
        "\n",
        "assert len(lbl)==len(txt)\n",
        "\n",
        "# Shuffle and split\n",
        "idx = np.random.permutation(len(txt))\n",
        "x,y = txt[idx], lbl[idx]\n",
        "df=pd.DataFrame({'sentence':x,'label':y})"
      ],
      "execution_count": null,
      "outputs": []
    },
    {
      "cell_type": "code",
      "metadata": {
        "id": "TqMWTdUyVgbo",
        "colab_type": "code",
        "colab": {
          "base_uri": "https://localhost:8080/",
          "height": 204
        },
        "outputId": "627415bf-7814-49cc-9cb6-680e44b1023b"
      },
      "source": [
        "df.head()"
      ],
      "execution_count": null,
      "outputs": [
        {
          "output_type": "execute_result",
          "data": {
            "text/html": [
              "<div>\n",
              "<style scoped>\n",
              "    .dataframe tbody tr th:only-of-type {\n",
              "        vertical-align: middle;\n",
              "    }\n",
              "\n",
              "    .dataframe tbody tr th {\n",
              "        vertical-align: top;\n",
              "    }\n",
              "\n",
              "    .dataframe thead th {\n",
              "        text-align: right;\n",
              "    }\n",
              "</style>\n",
              "<table border=\"1\" class=\"dataframe\">\n",
              "  <thead>\n",
              "    <tr style=\"text-align: right;\">\n",
              "      <th></th>\n",
              "      <th>sentence</th>\n",
              "      <th>label</th>\n",
              "    </tr>\n",
              "  </thead>\n",
              "  <tbody>\n",
              "    <tr>\n",
              "      <th>0</th>\n",
              "      <td>UE starts the drx-ULRetransmissionTimer for th...</td>\n",
              "      <td>2</td>\n",
              "    </tr>\n",
              "    <tr>\n",
              "      <th>1</th>\n",
              "      <td>UE  in E-UTRA RRC_CONNECTED state</td>\n",
              "      <td>0</td>\n",
              "    </tr>\n",
              "    <tr>\n",
              "      <th>2</th>\n",
              "      <td>UE decodes the received transport block of siz...</td>\n",
              "      <td>2</td>\n",
              "    </tr>\n",
              "    <tr>\n",
              "      <th>3</th>\n",
              "      <td>UE in E-UTRA RRC_IDLE state and after transmit...</td>\n",
              "      <td>0</td>\n",
              "    </tr>\n",
              "    <tr>\n",
              "      <th>4</th>\n",
              "      <td>UE in enhanced coverage receives a Paging mess...</td>\n",
              "      <td>1</td>\n",
              "    </tr>\n",
              "  </tbody>\n",
              "</table>\n",
              "</div>"
            ],
            "text/plain": [
              "                                            sentence  label\n",
              "0  UE starts the drx-ULRetransmissionTimer for th...      2\n",
              "1                  UE  in E-UTRA RRC_CONNECTED state      0\n",
              "2  UE decodes the received transport block of siz...      2\n",
              "3  UE in E-UTRA RRC_IDLE state and after transmit...      0\n",
              "4  UE in enhanced coverage receives a Paging mess...      1"
            ]
          },
          "metadata": {
            "tags": []
          },
          "execution_count": 32
        }
      ]
    },
    {
      "cell_type": "code",
      "metadata": {
        "id": "8WSXglhyViRV",
        "colab_type": "code",
        "colab": {}
      },
      "source": [
        ""
      ],
      "execution_count": null,
      "outputs": []
    }
  ]
}