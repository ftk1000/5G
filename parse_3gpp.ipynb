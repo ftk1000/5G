{
  "nbformat": 4,
  "nbformat_minor": 0,
  "metadata": {
    "colab": {
      "name": "parse_3gpp.ipynb",
      "provenance": [],
      "authorship_tag": "ABX9TyNCNjZkm0fOTftNjUz/NNdI",
      "include_colab_link": true
    },
    "kernelspec": {
      "name": "python3",
      "display_name": "Python 3"
    }
  },
  "cells": [
    {
      "cell_type": "markdown",
      "metadata": {
        "id": "view-in-github",
        "colab_type": "text"
      },
      "source": [
        "<a href=\"https://colab.research.google.com/github/ftk1000/5G/blob/master/parse_3gpp.ipynb\" target=\"_parent\"><img src=\"https://colab.research.google.com/assets/colab-badge.svg\" alt=\"Open In Colab\"/></a>"
      ]
    },
    {
      "cell_type": "markdown",
      "metadata": {
        "id": "GsN_lkIyCLfw",
        "colab_type": "text"
      },
      "source": [
        "# Parse 3GPP document\n",
        "2020.08.13\n",
        "\n",
        "parse_3gpp.ipynb"
      ]
    },
    {
      "cell_type": "code",
      "metadata": {
        "id": "7ZfDJ3pLCR_V",
        "colab_type": "code",
        "colab": {}
      },
      "source": [
        "### Here are the instructions how to read a file from Gdrive\n",
        "# https://buomsoo-kim.github.io/colab/2018/04/16/Importing-files-from-Google-Drive-in-Google-Colab.md/\n",
        "\n",
        "\n",
        "# SOURCE DOCUMENT\n",
        "# LTE; Evolved Universal Terrestrial Radio Access (E-UTRA) and Evolved Packet Core (EPC);\n",
        "# User Equipment (UE) conformance specification; Part 1: Protocol conformance specification\n",
        "# 3GPP TS 36.523-1\n",
        "\n",
        "# downloaded *.DOC files are here:  C:\\Users\\khafifa\\Downloads\\36523-1-f00.zip\n",
        "# we will use only of them converted to TXT format\n",
        "file_name = 'C:\\\\Users\\\\khafifa\\\\Downloads\\\\TESTING_FROM_REQUIREMENTS\\\\36523-1-f00_s07_01.txt'\n",
        "\n",
        "shareble_link = 'https://drive.google.com/file/d/1jNGAf5O6U4Cr4GbWK_DpCxIuxv7-BQ2c/view?usp=sharing'\n",
        "file_id = '1jNGAf5O6U4Cr4GbWK_DpCxIuxv7-BQ2c'"
      ],
      "execution_count": null,
      "outputs": []
    },
    {
      "cell_type": "code",
      "metadata": {
        "id": "lxm2eYKDEWPe",
        "colab_type": "code",
        "colab": {
          "base_uri": "https://localhost:8080/",
          "height": 278
        },
        "outputId": "0c83a597-e2d1-451f-9733-616365abd35c"
      },
      "source": [
        "!pip install PyDrive"
      ],
      "execution_count": null,
      "outputs": [
        {
          "output_type": "stream",
          "text": [
            "Requirement already satisfied: PyDrive in /usr/local/lib/python3.6/dist-packages (1.3.1)\n",
            "Requirement already satisfied: PyYAML>=3.0 in /usr/local/lib/python3.6/dist-packages (from PyDrive) (3.13)\n",
            "Requirement already satisfied: google-api-python-client>=1.2 in /usr/local/lib/python3.6/dist-packages (from PyDrive) (1.7.12)\n",
            "Requirement already satisfied: oauth2client>=4.0.0 in /usr/local/lib/python3.6/dist-packages (from PyDrive) (4.1.3)\n",
            "Requirement already satisfied: google-auth>=1.4.1 in /usr/local/lib/python3.6/dist-packages (from google-api-python-client>=1.2->PyDrive) (1.17.2)\n",
            "Requirement already satisfied: six<2dev,>=1.6.1 in /usr/local/lib/python3.6/dist-packages (from google-api-python-client>=1.2->PyDrive) (1.15.0)\n",
            "Requirement already satisfied: google-auth-httplib2>=0.0.3 in /usr/local/lib/python3.6/dist-packages (from google-api-python-client>=1.2->PyDrive) (0.0.4)\n",
            "Requirement already satisfied: uritemplate<4dev,>=3.0.0 in /usr/local/lib/python3.6/dist-packages (from google-api-python-client>=1.2->PyDrive) (3.0.1)\n",
            "Requirement already satisfied: httplib2<1dev,>=0.17.0 in /usr/local/lib/python3.6/dist-packages (from google-api-python-client>=1.2->PyDrive) (0.17.4)\n",
            "Requirement already satisfied: pyasn1>=0.1.7 in /usr/local/lib/python3.6/dist-packages (from oauth2client>=4.0.0->PyDrive) (0.4.8)\n",
            "Requirement already satisfied: rsa>=3.1.4 in /usr/local/lib/python3.6/dist-packages (from oauth2client>=4.0.0->PyDrive) (4.6)\n",
            "Requirement already satisfied: pyasn1-modules>=0.0.5 in /usr/local/lib/python3.6/dist-packages (from oauth2client>=4.0.0->PyDrive) (0.2.8)\n",
            "Requirement already satisfied: setuptools>=40.3.0 in /usr/local/lib/python3.6/dist-packages (from google-auth>=1.4.1->google-api-python-client>=1.2->PyDrive) (49.2.0)\n",
            "Requirement already satisfied: cachetools<5.0,>=2.0.0 in /usr/local/lib/python3.6/dist-packages (from google-auth>=1.4.1->google-api-python-client>=1.2->PyDrive) (4.1.1)\n"
          ],
          "name": "stdout"
        }
      ]
    },
    {
      "cell_type": "code",
      "metadata": {
        "id": "85veE2LzEZH9",
        "colab_type": "code",
        "colab": {}
      },
      "source": [
        "from pydrive.auth import GoogleAuth\n",
        "from pydrive.drive import GoogleDrive\n",
        "from google.colab import auth\n",
        "from oauth2client.client import GoogleCredentials"
      ],
      "execution_count": null,
      "outputs": []
    },
    {
      "cell_type": "markdown",
      "metadata": {
        "id": "lGqlRJBZEsMe",
        "colab_type": "text"
      },
      "source": [
        "# Authenticate and create the PyDrive client"
      ]
    },
    {
      "cell_type": "code",
      "metadata": {
        "id": "MM6kog8hEect",
        "colab_type": "code",
        "colab": {}
      },
      "source": [
        "#see Step 6 https://buomsoo-kim.github.io/colab/2018/04/16/Importing-files-from-Google-Drive-in-Google-Colab.md/\n",
        "auth.authenticate_user()\n",
        "gauth = GoogleAuth()\n",
        "gauth.credentials = GoogleCredentials.get_application_default()\n",
        "drive = GoogleDrive(gauth)"
      ],
      "execution_count": null,
      "outputs": []
    },
    {
      "cell_type": "code",
      "metadata": {
        "id": "vx_HHdnuEzXG",
        "colab_type": "code",
        "colab": {}
      },
      "source": [
        "downloaded = drive.CreateFile({'id':file_id})   # replace the id with id of file you want to access\n",
        "downloaded.GetContentFile('36523-1-f00_s07_01.txt') "
      ],
      "execution_count": null,
      "outputs": []
    },
    {
      "cell_type": "code",
      "metadata": {
        "id": "DGds5v-eFOi1",
        "colab_type": "code",
        "colab": {
          "base_uri": "https://localhost:8080/",
          "height": 34
        },
        "outputId": "5d0bdc33-19e9-492e-e310-47ba517ab4a2"
      },
      "source": [
        "# to deal with non-ascii codes read this\n",
        "# https://stackoverflow.com/questions/22216076/unicodedecodeerror-utf8-codec-cant-decode-byte-0xa5-in-position-0-invalid-s\n",
        "# import codecs      # f = codecs.open(file_name, \"r\", encoding= 'unicode_escape')\n",
        "file_name = '36523-1-f00_s07_01.txt'\n",
        "with open(file=file_name, mode='r', encoding='unicode_escape') as f:\n",
        "    lines = f.readlines()\n",
        "f.close()\n",
        "len(lines)"
      ],
      "execution_count": null,
      "outputs": [
        {
          "output_type": "execute_result",
          "data": {
            "text/plain": [
              "102056"
            ]
          },
          "metadata": {
            "tags": []
          },
          "execution_count": 11
        }
      ]
    },
    {
      "cell_type": "code",
      "metadata": {
        "id": "qdlHsACwKqQS",
        "colab_type": "code",
        "colab": {
          "base_uri": "https://localhost:8080/",
          "height": 34
        },
        "outputId": "d74ad8af-db94-44df-8934-d74be82e9f32"
      },
      "source": [
        "# # find line with \"Test Purpose (TP)\"\n",
        "\n",
        "import re\n",
        "pattern = re.compile('\\(')\n",
        "ss = 'hi (hello)'\n",
        "print(pattern.match(ss))\n",
        "\n",
        "# # pattern = re.compile(\"^([A-Z][0-9]+)+$\")\n",
        "# # pattern = re.compile('Test Purpose (TP)')\n",
        "# # pattern = re.compile('SEQUENCE')\n",
        "# pattern = re.compile('Information')\n",
        "\n",
        "# # string = 'Test Purpose (TP)'\n",
        "# string = 'Information Element'\n",
        "# print(pattern.match(string))\n",
        "# # ord(string[4])\n",
        "# # print(string)\n",
        "# string.find(\"Element\")\n",
        "\n"
      ],
      "execution_count": null,
      "outputs": [
        {
          "output_type": "stream",
          "text": [
            "None\n"
          ],
          "name": "stdout"
        }
      ]
    },
    {
      "cell_type": "code",
      "metadata": {
        "id": "d9_yKa55oi7e",
        "colab_type": "code",
        "colab": {
          "base_uri": "https://localhost:8080/",
          "height": 130
        },
        "outputId": "4fdaf30a-3817-4c12-e588-83e02c4f1501"
      },
      "source": [
        "import re\n",
        "m = re.search(\"Your number is <b>(\\d+)</b>\",\n",
        "      \"xxx Your number is <b>123</b>  fdjsk\")\n",
        "if m:\n",
        "    print m.groups()[0]"
      ],
      "execution_count": null,
      "outputs": [
        {
          "output_type": "error",
          "ename": "SyntaxError",
          "evalue": "ignored",
          "traceback": [
            "\u001b[0;36m  File \u001b[0;32m\"<ipython-input-19-c291fea3e243>\"\u001b[0;36m, line \u001b[0;32m5\u001b[0m\n\u001b[0;31m    print m.groups()[0]\u001b[0m\n\u001b[0m          ^\u001b[0m\n\u001b[0;31mSyntaxError\u001b[0m\u001b[0;31m:\u001b[0m invalid syntax\n"
          ]
        }
      ]
    },
    {
      "cell_type": "code",
      "metadata": {
        "id": "oqXlUdeOWF_r",
        "colab_type": "code",
        "colab": {
          "base_uri": "https://localhost:8080/",
          "height": 72
        },
        "outputId": "f45c8e8f-1b34-40b8-cde7-952aff8d03ff"
      },
      "source": [
        "test_idx = []\n",
        "for i in range(len(lines)):\n",
        "  line = lines[i].strip();  # print(line)\n",
        "  if line.find(\"Test Purpose (TP)\") >=0 :\n",
        "    test_idx.append(i)\n",
        "    # print(\"===> line = \", i)\n",
        "    # for j in range(4):\n",
        "    #   print(lines[i-4+j].strip())\n",
        "    # for j in range(1):\n",
        "    #   print(lines[i+j].strip())\n",
        "\n",
        "print(test_idx)\n",
        "print(\"patterns found =\",len(test_idx))"
      ],
      "execution_count": null,
      "outputs": [
        {
          "output_type": "stream",
          "text": [
            "[36, 218, 352, 508, 873, 1087, 1243, 1596, 1949, 2241, 2621, 2782, 2973, 3196, 3435, 3725, 4275, 5016, 5605, 5754, 6360, 6621, 6707, 6933, 7193, 7507, 7807, 8127, 8250, 8544, 9076, 9544, 10221, 10660, 11099, 11743, 12380, 12620, 13509, 13656, 14067, 14273, 15027, 15295, 15383, 15532, 15998, 16568, 16809, 17228, 17548, 17768, 18205, 18605, 18918, 19220, 19883, 20194, 20455, 20758, 21173, 21646, 21989, 22399, 22661, 23370, 23385, 23748, 24075, 24312, 24649, 24963, 25424, 25460, 25765, 26315, 26532, 26903, 27753, 27920, 28137, 28320, 28428, 28535, 28926, 29245, 29564, 29878, 30213, 30548, 34821, 38947, 43126, 47278, 51785, 56037, 61926, 67310, 72686, 78107, 83529, 84824, 86116, 92189, 93231, 94224, 98418, 99255, 99901, 100314, 100705, 101044, 101333, 101881]\n",
            "patterns found = 114\n"
          ],
          "name": "stdout"
        }
      ]
    },
    {
      "cell_type": "markdown",
      "metadata": {
        "id": "TrRUTogtk6hV",
        "colab_type": "text"
      },
      "source": [
        "# Get a block with test descriptions"
      ]
    },
    {
      "cell_type": "code",
      "metadata": {
        "id": "RX-Jt71Ek0Ce",
        "colab_type": "code",
        "colab": {}
      },
      "source": [
        "def get_test_description(i,j, lines):\n",
        "  TestSec_TestName = lines[i-1].strip().split('\\t')\n",
        "  TestPurposeSec = lines[i].strip().split('\\t')[0]\n",
        "  # if lines[i+1][0]=='(': # more than one test\n",
        "\n",
        "  line_with = lines[i+2] if lines[i+1][0]=='(' else lines[i+1]\n",
        "  line_when = lines[i+4] if lines[i+1][0]=='(' else lines[i+3]\n",
        "  line_then = lines[i+5] if lines[i+1][0]=='(' else lines[i+4]\n",
        "  d.loc[i] = [i, TestSec_TestName[0], TestSec_TestName[1], TestPurposeSec, \n",
        "              line_with.strip(), line_when.strip(), line_then.strip(), 'xx']\n"
      ],
      "execution_count": null,
      "outputs": []
    },
    {
      "cell_type": "code",
      "metadata": {
        "id": "UFYTygorl38Z",
        "colab_type": "code",
        "colab": {}
      },
      "source": [
        "import pandas as pd\n",
        "d = pd.DataFrame(columns=['line','TestSec','TestName', 'TestPurposeSec','with', 'when', 'then', 'other'])\n"
      ],
      "execution_count": null,
      "outputs": []
    },
    {
      "cell_type": "code",
      "metadata": {
        "id": "0m6xp0U9WzVa",
        "colab_type": "code",
        "colab": {
          "base_uri": "https://localhost:8080/",
          "height": 34
        },
        "outputId": "21f37e65-2b6a-421a-d933-4403ce2da151"
      },
      "source": [
        "line='7.1.1.1.1\tTest Purpose (TP)'\n",
        "line.split('\\t')"
      ],
      "execution_count": null,
      "outputs": [
        {
          "output_type": "execute_result",
          "data": {
            "text/plain": [
              "['7.1.1.1.1', 'Test Purpose (TP)']"
            ]
          },
          "metadata": {
            "tags": []
          },
          "execution_count": 66
        }
      ]
    },
    {
      "cell_type": "code",
      "metadata": {
        "id": "LJz_K76WfcW6",
        "colab_type": "code",
        "colab": {
          "base_uri": "https://localhost:8080/",
          "height": 278
        },
        "outputId": "c9824d44-fb36-4b0f-f1bf-7d198af405f6"
      },
      "source": [
        "k=218\n",
        "blines[k-4:k+10]"
      ],
      "execution_count": null,
      "outputs": [
        {
          "output_type": "execute_result",
          "data": {
            "text/plain": [
              "['\\n',\n",
              " '7.1.1.1.3.3\\tSpecific message contents\\n',\n",
              " 'None.\\n',\n",
              " '7.1.1.1a\\tCCCH mapped to UL SCH/ DL-SCH / UE Cat 0\\n',\n",
              " '7.1.1.1a.1\\tTest Purpose (TP)\\n',\n",
              " '(1)\\n',\n",
              " 'with { UE in E-UTRA RRC_IDLE state }\\n',\n",
              " 'ensure that {\\n',\n",
              " '  when { UE receives a Paging message including a matched identity }\\n',\n",
              " '    then { UE responds with a RRCConnectionRequest message in a MAC PDU on UL SCH on CCCH indicating LCID \\x9201011\\x92  }\\n',\n",
              " '            }\\n',\n",
              " '\\n',\n",
              " '7.1.1.1a.2\\tConformance requirements\\n',\n",
              " 'References: The conformance requirements covered in the current TC are specified in: TS 36.321, clause 5.3.3, 5.11, 6.1.2 and 6.2.1.\\n']"
            ]
          },
          "metadata": {
            "tags": []
          },
          "execution_count": 86
        }
      ]
    },
    {
      "cell_type": "code",
      "metadata": {
        "id": "25-PM1eTzzoX",
        "colab_type": "code",
        "colab": {
          "base_uri": "https://localhost:8080/",
          "height": 35
        },
        "outputId": "ee8fa143-11fc-4de5-fea4-86d0a9cc099e"
      },
      "source": [
        "line_with = lines[k+2] if lines[k+1][0]=='(' else lines[k+1]\n",
        "line_with\n"
      ],
      "execution_count": null,
      "outputs": [
        {
          "output_type": "execute_result",
          "data": {
            "application/vnd.google.colaboratory.intrinsic+json": {
              "type": "string"
            },
            "text/plain": [
              "'with { UE in E-UTRA RRC_IDLE state }\\n'"
            ]
          },
          "metadata": {
            "tags": []
          },
          "execution_count": 91
        }
      ]
    },
    {
      "cell_type": "code",
      "metadata": {
        "id": "CoWGWyJ-oF9Y",
        "colab_type": "code",
        "colab": {}
      },
      "source": [
        "for i in test_idx:\n",
        "  TestSec_TestName = lines[i-1].strip().split('\\t')\n",
        "  TestPurposeSec = lines[i].strip().split('\\t')[0]\n",
        "  line_with = lines[i+2] if lines[i+1][0]=='(' else lines[i+1]\n",
        "  line_when = lines[i+4] if lines[i+1][0]=='(' else lines[i+3]\n",
        "  line_then = lines[i+5] if lines[i+1][0]=='(' else lines[i+4]\n",
        "  d.loc[i] = [i, TestSec_TestName[0], TestSec_TestName[1], TestPurposeSec, \n",
        "              line_with.strip(), line_when.strip(), line_then.strip(), 'xx']\n"
      ],
      "execution_count": null,
      "outputs": []
    },
    {
      "cell_type": "code",
      "metadata": {
        "id": "EqxJTEa_ozQE",
        "colab_type": "code",
        "colab": {
          "base_uri": "https://localhost:8080/",
          "height": 922
        },
        "outputId": "edd3e2a8-2dea-4c85-a334-7e0bd7b12076"
      },
      "source": [
        "d.reset_index(inplace=True)\n",
        "d"
      ],
      "execution_count": null,
      "outputs": [
        {
          "output_type": "execute_result",
          "data": {
            "text/html": [
              "<div>\n",
              "<style scoped>\n",
              "    .dataframe tbody tr th:only-of-type {\n",
              "        vertical-align: middle;\n",
              "    }\n",
              "\n",
              "    .dataframe tbody tr th {\n",
              "        vertical-align: top;\n",
              "    }\n",
              "\n",
              "    .dataframe thead th {\n",
              "        text-align: right;\n",
              "    }\n",
              "</style>\n",
              "<table border=\"1\" class=\"dataframe\">\n",
              "  <thead>\n",
              "    <tr style=\"text-align: right;\">\n",
              "      <th></th>\n",
              "      <th>index</th>\n",
              "      <th>line</th>\n",
              "      <th>TestSec</th>\n",
              "      <th>TestName</th>\n",
              "      <th>TestPurposeSec</th>\n",
              "      <th>with</th>\n",
              "      <th>when</th>\n",
              "      <th>then</th>\n",
              "      <th>other</th>\n",
              "    </tr>\n",
              "  </thead>\n",
              "  <tbody>\n",
              "    <tr>\n",
              "      <th>0</th>\n",
              "      <td>36</td>\n",
              "      <td>36</td>\n",
              "      <td>7.1.1.1</td>\n",
              "      <td>CCCH mapped to UL SCH/ DL-SCH / Reserved Logic...</td>\n",
              "      <td>7.1.1.1.1</td>\n",
              "      <td>with { UE in E-UTRA RRC_IDLE state and after t...</td>\n",
              "      <td>when { UE receives a MAC PDU on DL SCH and add...</td>\n",
              "      <td>then { UE discards the MAC PDU }</td>\n",
              "      <td>xx</td>\n",
              "    </tr>\n",
              "    <tr>\n",
              "      <th>1</th>\n",
              "      <td>218</td>\n",
              "      <td>218</td>\n",
              "      <td>7.1.1.1a</td>\n",
              "      <td>CCCH mapped to UL SCH/ DL-SCH / UE Cat 0</td>\n",
              "      <td>7.1.1.1a.1</td>\n",
              "      <td>with { UE in E-UTRA RRC_IDLE state }</td>\n",
              "      <td>when { UE receives a Paging message including ...</td>\n",
              "      <td>then { UE responds with a RRCConnectionRequest...</td>\n",
              "      <td>xx</td>\n",
              "    </tr>\n",
              "    <tr>\n",
              "      <th>2</th>\n",
              "      <td>352</td>\n",
              "      <td>352</td>\n",
              "      <td>7.1.1.2</td>\n",
              "      <td>DTCH or DCCH mapped to UL SCH/ DL-SCH / Reserv...</td>\n",
              "      <td>7.1.1.2.1</td>\n",
              "      <td>with { UE in E-UTRA RRC_Connected state with D...</td>\n",
              "      <td>when { UE receives a MAC PDU on DL SCH and add...</td>\n",
              "      <td>then { UE shall not forward the disassembled a...</td>\n",
              "      <td>xx</td>\n",
              "    </tr>\n",
              "    <tr>\n",
              "      <th>3</th>\n",
              "      <td>508</td>\n",
              "      <td>508</td>\n",
              "      <td>7.1.2.1</td>\n",
              "      <td>Correct selection of RACH parameters / Random ...</td>\n",
              "      <td>7.1.2.1.1</td>\n",
              "      <td>with { UE in E-UTRA RRC_CONNECTED state }</td>\n",
              "      <td>when { SS sends an RRCConnectionReconfiguratio...</td>\n",
              "      <td>then { UE sends a prach preamble given in the ...</td>\n",
              "      <td>xx</td>\n",
              "    </tr>\n",
              "    <tr>\n",
              "      <th>4</th>\n",
              "      <td>873</td>\n",
              "      <td>873</td>\n",
              "      <td>7.1.2.1a</td>\n",
              "      <td>Correct selection of RACH parameters / Random ...</td>\n",
              "      <td>7.1.2.1a.1</td>\n",
              "      <td>with { UE in E-UTRA RRC_CONNECTED state }</td>\n",
              "      <td>when { SS sends an RRCConnectionReconfiguratio...</td>\n",
              "      <td>then { UE sends a prach preamble given in the ...</td>\n",
              "      <td>xx</td>\n",
              "    </tr>\n",
              "    <tr>\n",
              "      <th>...</th>\n",
              "      <td>...</td>\n",
              "      <td>...</td>\n",
              "      <td>...</td>\n",
              "      <td>...</td>\n",
              "      <td>...</td>\n",
              "      <td>...</td>\n",
              "      <td>...</td>\n",
              "      <td>...</td>\n",
              "      <td>...</td>\n",
              "    </tr>\n",
              "    <tr>\n",
              "      <th>109</th>\n",
              "      <td>100314</td>\n",
              "      <td>100314</td>\n",
              "      <td>7.1.9.1.1</td>\n",
              "      <td>CA / Activation/Deactivation of SCells / Activ...</td>\n",
              "      <td>7.1.9.1.1.1</td>\n",
              "      <td>with { UE in E-UTRA RRC_CONNECTED state with S...</td>\n",
              "      <td>when { the UE receives an Activation MAC Contr...</td>\n",
              "      <td>then { the UE starts monitoring PDCCH on activ...</td>\n",
              "      <td>xx</td>\n",
              "    </tr>\n",
              "    <tr>\n",
              "      <th>110</th>\n",
              "      <td>100705</td>\n",
              "      <td>100705</td>\n",
              "      <td>7.1.10.1</td>\n",
              "      <td>Sending SR on PUCCH with DMRS generated by usi...</td>\n",
              "      <td>7.1.10.1.1</td>\n",
              "      <td>with { UE in E-UTRA RRC_CONNECTED state with n...</td>\n",
              "      <td>when { UE has UL data available for transmissi...</td>\n",
              "      <td>then { the UE transmits an SR on every availab...</td>\n",
              "      <td>xx</td>\n",
              "    </tr>\n",
              "    <tr>\n",
              "      <th>111</th>\n",
              "      <td>101044</td>\n",
              "      <td>101044</td>\n",
              "      <td>7.1.10.2</td>\n",
              "      <td>Transmitting data on PUSCH with DMRS generated...</td>\n",
              "      <td>7.1.10.2.1</td>\n",
              "      <td>with { UE in E-UTRA RRC_CONNECTED state with n...</td>\n",
              "      <td>when { UE has UL data available for transmissi...</td>\n",
              "      <td>then { UE transmits the data to the network on...</td>\n",
              "      <td>xx</td>\n",
              "    </tr>\n",
              "    <tr>\n",
              "      <th>112</th>\n",
              "      <td>101333</td>\n",
              "      <td>101333</td>\n",
              "      <td>7.1.11.1</td>\n",
              "      <td>LAA transmits common control information in PD...</td>\n",
              "      <td>7.1.11.1.1</td>\n",
              "      <td>with { UE in E-UTRA RRC_CONNECTED state with n...</td>\n",
              "      <td>when { LAA Scell transmits in PDCCH with DCI f...</td>\n",
              "      <td>then { UE receives it and determines subframe ...</td>\n",
              "      <td>xx</td>\n",
              "    </tr>\n",
              "    <tr>\n",
              "      <th>113</th>\n",
              "      <td>101881</td>\n",
              "      <td>101881</td>\n",
              "      <td>7.1.12.1</td>\n",
              "      <td>DataInactivityTimer expiry</td>\n",
              "      <td>7.1.12.1.1</td>\n",
              "      <td>with { UE in E-UTRA RRC_CONNECTED state }</td>\n",
              "      <td>when { UE detecting data inactivity on expiry ...</td>\n",
              "      <td>then { UE enters RRC_IDLE state }</td>\n",
              "      <td>xx</td>\n",
              "    </tr>\n",
              "  </tbody>\n",
              "</table>\n",
              "<p>114 rows × 9 columns</p>\n",
              "</div>"
            ],
            "text/plain": [
              "      index    line  ...                                               then other\n",
              "0        36      36  ...                   then { UE discards the MAC PDU }    xx\n",
              "1       218     218  ...  then { UE responds with a RRCConnectionRequest...    xx\n",
              "2       352     352  ...  then { UE shall not forward the disassembled a...    xx\n",
              "3       508     508  ...  then { UE sends a prach preamble given in the ...    xx\n",
              "4       873     873  ...  then { UE sends a prach preamble given in the ...    xx\n",
              "..      ...     ...  ...                                                ...   ...\n",
              "109  100314  100314  ...  then { the UE starts monitoring PDCCH on activ...    xx\n",
              "110  100705  100705  ...  then { the UE transmits an SR on every availab...    xx\n",
              "111  101044  101044  ...  then { UE transmits the data to the network on...    xx\n",
              "112  101333  101333  ...  then { UE receives it and determines subframe ...    xx\n",
              "113  101881  101881  ...                  then { UE enters RRC_IDLE state }    xx\n",
              "\n",
              "[114 rows x 9 columns]"
            ]
          },
          "metadata": {
            "tags": []
          },
          "execution_count": 100
        }
      ]
    },
    {
      "cell_type": "code",
      "metadata": {
        "id": "C4srD7nc0kq-",
        "colab_type": "code",
        "colab": {}
      },
      "source": [
        "def find_idx_subtests(ix1,ix2):\n",
        "  ix_subtest = []\n",
        "  for i in range(ix1,ix2):\n",
        "    if lines[i][0]=='(':\n",
        "      ix_subtest.append(i)\n",
        "      # print('==> lineNum =',i, \"  line=\", lines[i].strip())\n",
        "  return ix_subtest"
      ],
      "execution_count": null,
      "outputs": []
    },
    {
      "cell_type": "code",
      "metadata": {
        "id": "CHCqeQNr2Yx7",
        "colab_type": "code",
        "colab": {
          "base_uri": "https://localhost:8080/",
          "height": 34
        },
        "outputId": "81bc0618-3f4e-47b0-96eb-bf5dc90b5666"
      },
      "source": [
        "find_idx_subtests(36,217)"
      ],
      "execution_count": null,
      "outputs": [
        {
          "output_type": "execute_result",
          "data": {
            "text/plain": [
              "[37, 44]"
            ]
          },
          "metadata": {
            "tags": []
          },
          "execution_count": 16
        }
      ]
    },
    {
      "cell_type": "code",
      "metadata": {
        "id": "wSujbbXCkwc8",
        "colab_type": "code",
        "colab": {}
      },
      "source": [
        ""
      ],
      "execution_count": null,
      "outputs": []
    }
  ]
}