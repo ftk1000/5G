{
 "cells": [
  {
   "cell_type": "code",
   "execution_count": 1,
   "metadata": {},
   "outputs": [
    {
     "data": {
      "text/html": [
       "<style>.container { width:93% !important; }</style>"
      ],
      "text/plain": [
       "<IPython.core.display.HTML object>"
      ]
     },
     "metadata": {},
     "output_type": "display_data"
    }
   ],
   "source": [
    "# compute channel frequency\n",
    "# compute_ch_freq_v2.ipynb\n",
    "\n",
    "# 2021.02.19\n",
    "from IPython.core.display import display, HTML\n",
    "display(HTML(\"<style>.container { width:93% !important; }</style>\"))"
   ]
  },
  {
   "cell_type": "code",
   "execution_count": 2,
   "metadata": {},
   "outputs": [
    {
     "data": {
      "text/plain": [
       "0"
      ]
     },
     "execution_count": 2,
     "metadata": {},
     "output_type": "execute_result"
    }
   ],
   "source": [
    "import math\n",
    "import pandas as pd\n",
    "pd.set_option('display.max_rows', 500)\n",
    "pd.set_option('display.max_columns', 500)\n",
    "pd.set_option('display.width', 1000)\n",
    "\n",
    "import numpy as np\n",
    "import os, sys\n",
    "import time\n",
    "import pickle \n",
    "import gc\n",
    "import re\n",
    "gc.collect()"
   ]
  },
  {
   "cell_type": "markdown",
   "metadata": {},
   "source": [
    "# https://www.etsi.org/deliver/etsi_ts/136500_136599/13652101/15.05.00_60/ts_13652101v150500p.pdf\n",
    "# 5.4.4 Carrier frequency and EARFCN \n",
    "# Table 5.4.4-1: E-UTRA channel numbers\n",
    "\n",
    "$\\displaystyle F_{DL} = F_{DL_{low}} + 0.1 ( N_{DL} – N_{Offs-DL} ) $"
   ]
  },
  {
   "cell_type": "code",
   "execution_count": 3,
   "metadata": {},
   "outputs": [
    {
     "name": "stdout",
     "output_type": "stream",
     "text": [
      "(65, 10)\n",
      "(62, 10)\n"
     ]
    }
   ],
   "source": [
    "def freq_dl(  Fdl_low, Ndl, Noffs_dl  ):\n",
    "    return Fdl_low + 0.1*( Ndl - Noffs_dl )\n",
    "    \n",
    "fn = 'TS_13652101v150500p_Tbl5.4.4_1E_UTRA_Ch_nums.xlsx'\n",
    "d = pd.read_excel(fn, sheet_name='ch_num_tbl')\n",
    "print(d.shape)\n",
    "\n",
    "# drop rows where band is not present\n",
    "ix = [ type(d['band'][i])==int  for i in range(len(d)) ]\n",
    "d=d.loc[ix].reset_index(drop=True)\n",
    "print(d.shape)\n",
    "\n",
    "# https://stackoverflow.com/questions/17336943/removing-non-numeric-characters-from-a-string\n",
    "import re\n",
    "# d['Ndl_min'] = [ re.sub('[^0-9]',' ', d['Ndl'][i]).strip().split(' ')[0]    for i in range(len(d)) ]\n",
    "# d['Ndl_max'] = [ re.sub('[^0-9]',' ', d['Ndl'][i]).strip().split(' ')[-1] for i in range(len(d)) ]\n",
    "\n",
    "d['Ndl_min'] = [ int(re.sub('[^0-9]',' ', d['Ndl'][i]).strip().split(' ')[ 0])    for i in range(len(d)) ]\n",
    "d['Ndl_max'] = [ int(re.sub('[^0-9]',' ', d['Ndl'][i]).strip().split(' ')[-1])    for i in range(len(d)) ]\n",
    "\n",
    "# d.head()"
   ]
  },
  {
   "cell_type": "code",
   "execution_count": 4,
   "metadata": {},
   "outputs": [],
   "source": [
    "# !dir"
   ]
  },
  {
   "cell_type": "code",
   "execution_count": 5,
   "metadata": {},
   "outputs": [
    {
     "data": {
      "text/html": [
       "<div>\n",
       "<style scoped>\n",
       "    .dataframe tbody tr th:only-of-type {\n",
       "        vertical-align: middle;\n",
       "    }\n",
       "\n",
       "    .dataframe tbody tr th {\n",
       "        vertical-align: top;\n",
       "    }\n",
       "\n",
       "    .dataframe thead th {\n",
       "        text-align: right;\n",
       "    }\n",
       "</style>\n",
       "<table border=\"1\" class=\"dataframe\">\n",
       "  <thead>\n",
       "    <tr style=\"text-align: right;\">\n",
       "      <th></th>\n",
       "      <th>band</th>\n",
       "      <th>Fdl_low_MHz</th>\n",
       "      <th>Noff_dl</th>\n",
       "      <th>Ndl</th>\n",
       "      <th>Ful_low_MHz</th>\n",
       "      <th>Noff_ul</th>\n",
       "      <th>Nul</th>\n",
       "      <th>band_w_idx</th>\n",
       "      <th>com_num</th>\n",
       "      <th>comment</th>\n",
       "      <th>Ndl_min</th>\n",
       "      <th>Ndl_max</th>\n",
       "    </tr>\n",
       "  </thead>\n",
       "  <tbody>\n",
       "    <tr>\n",
       "      <th>0</th>\n",
       "      <td>1</td>\n",
       "      <td>2110.0</td>\n",
       "      <td>0.0</td>\n",
       "      <td>0 – 599</td>\n",
       "      <td>1920.0</td>\n",
       "      <td>18000.0</td>\n",
       "      <td>18000 – 18599</td>\n",
       "      <td>1</td>\n",
       "      <td>NaN</td>\n",
       "      <td>NaN</td>\n",
       "      <td>0</td>\n",
       "      <td>599</td>\n",
       "    </tr>\n",
       "    <tr>\n",
       "      <th>1</th>\n",
       "      <td>2</td>\n",
       "      <td>1930.0</td>\n",
       "      <td>600.0</td>\n",
       "      <td>600 - 1199</td>\n",
       "      <td>1850.0</td>\n",
       "      <td>18600.0</td>\n",
       "      <td>18600 – 19199</td>\n",
       "      <td>2</td>\n",
       "      <td>NaN</td>\n",
       "      <td>NaN</td>\n",
       "      <td>600</td>\n",
       "      <td>1199</td>\n",
       "    </tr>\n",
       "    <tr>\n",
       "      <th>2</th>\n",
       "      <td>3</td>\n",
       "      <td>1805.0</td>\n",
       "      <td>1200.0</td>\n",
       "      <td>1200 – 1949</td>\n",
       "      <td>1710.0</td>\n",
       "      <td>19200.0</td>\n",
       "      <td>19200 – 19949</td>\n",
       "      <td>3</td>\n",
       "      <td>NaN</td>\n",
       "      <td>NaN</td>\n",
       "      <td>1200</td>\n",
       "      <td>1949</td>\n",
       "    </tr>\n",
       "    <tr>\n",
       "      <th>3</th>\n",
       "      <td>4</td>\n",
       "      <td>2110.0</td>\n",
       "      <td>1950.0</td>\n",
       "      <td>1950 – 2399</td>\n",
       "      <td>1710.0</td>\n",
       "      <td>19950.0</td>\n",
       "      <td>19950 – 20399</td>\n",
       "      <td>4</td>\n",
       "      <td>NaN</td>\n",
       "      <td>NaN</td>\n",
       "      <td>1950</td>\n",
       "      <td>2399</td>\n",
       "    </tr>\n",
       "    <tr>\n",
       "      <th>4</th>\n",
       "      <td>5</td>\n",
       "      <td>869.0</td>\n",
       "      <td>2400.0</td>\n",
       "      <td>2400 – 2649</td>\n",
       "      <td>824.0</td>\n",
       "      <td>20400.0</td>\n",
       "      <td>20400 – 20649</td>\n",
       "      <td>5</td>\n",
       "      <td>NaN</td>\n",
       "      <td>NaN</td>\n",
       "      <td>2400</td>\n",
       "      <td>2649</td>\n",
       "    </tr>\n",
       "  </tbody>\n",
       "</table>\n",
       "</div>"
      ],
      "text/plain": [
       "  band  Fdl_low_MHz  Noff_dl          Ndl  Ful_low_MHz  Noff_ul            Nul band_w_idx  com_num comment  Ndl_min  Ndl_max\n",
       "0    1       2110.0      0.0      0 – 599       1920.0  18000.0  18000 – 18599          1      NaN     NaN        0      599\n",
       "1    2       1930.0    600.0   600 - 1199       1850.0  18600.0  18600 – 19199          2      NaN     NaN      600     1199\n",
       "2    3       1805.0   1200.0  1200 – 1949       1710.0  19200.0  19200 – 19949          3      NaN     NaN     1200     1949\n",
       "3    4       2110.0   1950.0  1950 – 2399       1710.0  19950.0  19950 – 20399          4      NaN     NaN     1950     2399\n",
       "4    5        869.0   2400.0  2400 – 2649        824.0  20400.0  20400 – 20649          5      NaN     NaN     2400     2649"
      ]
     },
     "execution_count": 5,
     "metadata": {},
     "output_type": "execute_result"
    }
   ],
   "source": [
    "d.head()"
   ]
  },
  {
   "cell_type": "code",
   "execution_count": 6,
   "metadata": {},
   "outputs": [
    {
     "name": "stdout",
     "output_type": "stream",
     "text": [
      " earfcn_dl=2600,  band=5,   Freq_MHz=889.0\n"
     ]
    },
    {
     "data": {
      "text/html": [
       "<div>\n",
       "<style scoped>\n",
       "    .dataframe tbody tr th:only-of-type {\n",
       "        vertical-align: middle;\n",
       "    }\n",
       "\n",
       "    .dataframe tbody tr th {\n",
       "        vertical-align: top;\n",
       "    }\n",
       "\n",
       "    .dataframe thead th {\n",
       "        text-align: right;\n",
       "    }\n",
       "</style>\n",
       "<table border=\"1\" class=\"dataframe\">\n",
       "  <thead>\n",
       "    <tr style=\"text-align: right;\">\n",
       "      <th></th>\n",
       "      <th>band</th>\n",
       "      <th>Fdl_low_MHz</th>\n",
       "      <th>Noff_dl</th>\n",
       "      <th>Ndl</th>\n",
       "      <th>Ful_low_MHz</th>\n",
       "      <th>Noff_ul</th>\n",
       "      <th>Nul</th>\n",
       "      <th>band_w_idx</th>\n",
       "      <th>com_num</th>\n",
       "      <th>comment</th>\n",
       "      <th>Ndl_min</th>\n",
       "      <th>Ndl_max</th>\n",
       "    </tr>\n",
       "  </thead>\n",
       "  <tbody>\n",
       "    <tr>\n",
       "      <th>4</th>\n",
       "      <td>5</td>\n",
       "      <td>869.0</td>\n",
       "      <td>2400.0</td>\n",
       "      <td>2400 – 2649</td>\n",
       "      <td>824.0</td>\n",
       "      <td>20400.0</td>\n",
       "      <td>20400 – 20649</td>\n",
       "      <td>5</td>\n",
       "      <td>NaN</td>\n",
       "      <td>NaN</td>\n",
       "      <td>2400</td>\n",
       "      <td>2649</td>\n",
       "    </tr>\n",
       "  </tbody>\n",
       "</table>\n",
       "</div>"
      ],
      "text/plain": [
       "  band  Fdl_low_MHz  Noff_dl          Ndl  Ful_low_MHz  Noff_ul            Nul band_w_idx  com_num comment  Ndl_min  Ndl_max\n",
       "4    5        869.0   2400.0  2400 – 2649        824.0  20400.0  20400 – 20649          5      NaN     NaN     2400     2649"
      ]
     },
     "execution_count": 6,
     "metadata": {},
     "output_type": "execute_result"
    }
   ],
   "source": [
    "# EXAMPLE\n",
    "Ndl =  2600\n",
    "ix = (d['Ndl_min'] <= Ndl) & (Ndl<=d['Ndl_max'])\n",
    "\n",
    "[band, Fdl_low_MHz, Noff_dl] = np.array(d.loc[ix][ ['band', 'Fdl_low_MHz', 'Noff_dl'] ])[0]\n",
    "\n",
    "\n",
    "freq_MHz = freq_dl(  Fdl_low=Fdl_low_MHz, Ndl=Ndl, Noffs_dl=Noff_dl  )\n",
    "\n",
    "print(f' earfcn_dl={Ndl},  band={band},   Freq_MHz={freq_MHz}')\n",
    "\n",
    "# ix\n",
    "np.sum(ix)\n",
    "d.loc[ix]"
   ]
  },
  {
   "cell_type": "code",
   "execution_count": 7,
   "metadata": {},
   "outputs": [
    {
     "name": "stdout",
     "output_type": "stream",
     "text": [
      " earfcn_dl=2600,  band=5,   Freq_MHz=889.0\n",
      " earfcn_dl=50090,  band=46,   Freq_MHz=5480.0\n",
      " earfcn_dl=175000,  band=-1,   Freq_MHz=-1\n"
     ]
    }
   ],
   "source": [
    "# d.columns\n",
    "\n",
    "# def freq_dl(  Fdl_low, Ndl, Noffs_dl  ):\n",
    "#     return Fdl_low + 0.1*( Ndl - Noffs_dl )\n",
    "def get_band_freqDL( d, Ndl ):\n",
    "    ix = (d['Ndl_min'] <= Ndl) & (Ndl<=d['Ndl_max'])\n",
    "    if np.sum(ix) == 1:\n",
    "        [band, Fdl_low_MHz, Noff_dl] = np.array(d.loc[ix][ ['band', 'Fdl_low_MHz', 'Noff_dl'] ])[0]\n",
    "        freq_MHz = Fdl_low_MHz + 0.1*( Ndl - Noff_dl )\n",
    "    else:\n",
    "        band, freq_MHz = -1,-1   #'NA', 'NA'\n",
    "        \n",
    "    return band, freq_MHz\n",
    "\n",
    "\n",
    "Ndl =  2600\n",
    "band, freq_MHz = get_band_freqDL( d, Ndl )\n",
    "print(f' earfcn_dl={Ndl},  band={band},   Freq_MHz={freq_MHz}')\n",
    "\n",
    "Ndl = earfcn_dl = 50090\n",
    "band, freq_MHz = get_band_freqDL( d, Ndl )\n",
    "print(f' earfcn_dl={Ndl},  band={band},   Freq_MHz={freq_MHz}')\n",
    "\n",
    "Ndl = earfcn_dl = 175000\n",
    "band, freq_MHz = get_band_freqDL( d, Ndl )\n",
    "print(f' earfcn_dl={Ndl},  band={band},   Freq_MHz={freq_MHz}')\n",
    "    \n",
    "# freq_dl(  Fdl_low=Fdl_low_MHz, Ndl=Ndl, Noffs_dl=Noff_dl  )"
   ]
  },
  {
   "cell_type": "markdown",
   "metadata": {},
   "source": [
    "# Calculate BAND and Freq_MHz for all Ndl values "
   ]
  },
  {
   "cell_type": "code",
   "execution_count": 8,
   "metadata": {},
   "outputs": [],
   "source": [
    "# del d2"
   ]
  },
  {
   "cell_type": "code",
   "execution_count": 9,
   "metadata": {},
   "outputs": [
    {
     "name": "stdout",
     "output_type": "stream",
     "text": [
      "(9, 3)\n"
     ]
    },
    {
     "data": {
      "text/html": [
       "<div>\n",
       "<style scoped>\n",
       "    .dataframe tbody tr th:only-of-type {\n",
       "        vertical-align: middle;\n",
       "    }\n",
       "\n",
       "    .dataframe tbody tr th {\n",
       "        vertical-align: top;\n",
       "    }\n",
       "\n",
       "    .dataframe thead th {\n",
       "        text-align: right;\n",
       "    }\n",
       "</style>\n",
       "<table border=\"1\" class=\"dataframe\">\n",
       "  <thead>\n",
       "    <tr style=\"text-align: right;\">\n",
       "      <th></th>\n",
       "      <th>Ndl</th>\n",
       "      <th>band</th>\n",
       "      <th>freq_dl_MHz</th>\n",
       "    </tr>\n",
       "  </thead>\n",
       "  <tbody>\n",
       "    <tr>\n",
       "      <th>0</th>\n",
       "      <td>0</td>\n",
       "      <td>0</td>\n",
       "      <td>0</td>\n",
       "    </tr>\n",
       "    <tr>\n",
       "      <th>1</th>\n",
       "      <td>1025</td>\n",
       "      <td>0</td>\n",
       "      <td>0</td>\n",
       "    </tr>\n",
       "    <tr>\n",
       "      <th>2</th>\n",
       "      <td>2375</td>\n",
       "      <td>0</td>\n",
       "      <td>0</td>\n",
       "    </tr>\n",
       "    <tr>\n",
       "      <th>3</th>\n",
       "      <td>2600</td>\n",
       "      <td>0</td>\n",
       "      <td>0</td>\n",
       "    </tr>\n",
       "    <tr>\n",
       "      <th>4</th>\n",
       "      <td>5230</td>\n",
       "      <td>0</td>\n",
       "      <td>0</td>\n",
       "    </tr>\n",
       "  </tbody>\n",
       "</table>\n",
       "</div>"
      ],
      "text/plain": [
       "    Ndl  band  freq_dl_MHz\n",
       "0     0     0            0\n",
       "1  1025     0            0\n",
       "2  2375     0            0\n",
       "3  2600     0            0\n",
       "4  5230     0            0"
      ]
     },
     "execution_count": 9,
     "metadata": {},
     "output_type": "execute_result"
    }
   ],
   "source": [
    "d2 = pd.read_excel(fn, sheet_name='Ndl')\n",
    "d2['band'] = 0\n",
    "d2['freq_dl_MHz'] = 0\n",
    "print(d2.shape)\n",
    "d2.head()"
   ]
  },
  {
   "cell_type": "code",
   "execution_count": 10,
   "metadata": {},
   "outputs": [],
   "source": [
    "for i in range(len(d2)):\n",
    "    Ndl = d2.Ndl[i]\n",
    "#     print(f'======> i={i}   Ndl={Ndl}')\n",
    "    band, freq_MHz = get_band_freqDL( d, Ndl )\n",
    "    d2.band[i] = band\n",
    "    d2.freq_dl_MHz[i] = freq_MHz    "
   ]
  },
  {
   "cell_type": "code",
   "execution_count": 11,
   "metadata": {},
   "outputs": [
    {
     "name": "stdout",
     "output_type": "stream",
     "text": [
      "(9, 3)\n"
     ]
    },
    {
     "data": {
      "text/html": [
       "<div>\n",
       "<style scoped>\n",
       "    .dataframe tbody tr th:only-of-type {\n",
       "        vertical-align: middle;\n",
       "    }\n",
       "\n",
       "    .dataframe tbody tr th {\n",
       "        vertical-align: top;\n",
       "    }\n",
       "\n",
       "    .dataframe thead th {\n",
       "        text-align: right;\n",
       "    }\n",
       "</style>\n",
       "<table border=\"1\" class=\"dataframe\">\n",
       "  <thead>\n",
       "    <tr style=\"text-align: right;\">\n",
       "      <th></th>\n",
       "      <th>Ndl</th>\n",
       "      <th>band</th>\n",
       "      <th>freq_dl_MHz</th>\n",
       "    </tr>\n",
       "  </thead>\n",
       "  <tbody>\n",
       "    <tr>\n",
       "      <th>0</th>\n",
       "      <td>0</td>\n",
       "      <td>1</td>\n",
       "      <td>2110</td>\n",
       "    </tr>\n",
       "    <tr>\n",
       "      <th>1</th>\n",
       "      <td>1025</td>\n",
       "      <td>2</td>\n",
       "      <td>1972</td>\n",
       "    </tr>\n",
       "    <tr>\n",
       "      <th>2</th>\n",
       "      <td>2375</td>\n",
       "      <td>4</td>\n",
       "      <td>2152</td>\n",
       "    </tr>\n",
       "    <tr>\n",
       "      <th>3</th>\n",
       "      <td>2600</td>\n",
       "      <td>5</td>\n",
       "      <td>889</td>\n",
       "    </tr>\n",
       "    <tr>\n",
       "      <th>4</th>\n",
       "      <td>5230</td>\n",
       "      <td>13</td>\n",
       "      <td>751</td>\n",
       "    </tr>\n",
       "    <tr>\n",
       "      <th>5</th>\n",
       "      <td>53541</td>\n",
       "      <td>46</td>\n",
       "      <td>5825</td>\n",
       "    </tr>\n",
       "    <tr>\n",
       "      <th>6</th>\n",
       "      <td>55040</td>\n",
       "      <td>47</td>\n",
       "      <td>5905</td>\n",
       "    </tr>\n",
       "    <tr>\n",
       "      <th>7</th>\n",
       "      <td>56690</td>\n",
       "      <td>48</td>\n",
       "      <td>3695</td>\n",
       "    </tr>\n",
       "    <tr>\n",
       "      <th>8</th>\n",
       "      <td>66461</td>\n",
       "      <td>66</td>\n",
       "      <td>2112</td>\n",
       "    </tr>\n",
       "  </tbody>\n",
       "</table>\n",
       "</div>"
      ],
      "text/plain": [
       "     Ndl  band  freq_dl_MHz\n",
       "0      0     1         2110\n",
       "1   1025     2         1972\n",
       "2   2375     4         2152\n",
       "3   2600     5          889\n",
       "4   5230    13          751\n",
       "5  53541    46         5825\n",
       "6  55040    47         5905\n",
       "7  56690    48         3695\n",
       "8  66461    66         2112"
      ]
     },
     "execution_count": 11,
     "metadata": {},
     "output_type": "execute_result"
    }
   ],
   "source": [
    "print(d2.shape)\n",
    "d2"
   ]
  },
  {
   "cell_type": "code",
   "execution_count": 14,
   "metadata": {},
   "outputs": [],
   "source": [
    "# i=5\n",
    "# Ndl=d2.Ndl[i]\n",
    "# band, freq_MHz = get_band_freqDL( d, Ndl )\n",
    "# print(f' Ndl={Ndl},  band={band},   Freq_MHz={freq_MHz}')\n",
    "\n",
    "\n",
    "# ix = (d['Ndl_min'] <= Ndl) & (Ndl<=d['Ndl_max'])\n",
    "# ix\n",
    "# assert np.sum(ix) == 1\n",
    "\n",
    "# # [band, Fdl_low_MHz, Noff_dl] =\n",
    "# np.array(d.loc[ix][ ['band', 'Fdl_low_MHz', 'Noff_dl'] ])[0]\n",
    "# #     freq_MHz = Fdl_low_MHz + 0.1*( Ndl - Noff_dl )\n",
    "# # else:\n",
    "# #     band, freq_MHz = -1,-1   #'NA', 'NA'"
   ]
  },
  {
   "cell_type": "code",
   "execution_count": null,
   "metadata": {},
   "outputs": [],
   "source": [
    "# d2.to_csv('Ndl_band_freqMHz.csv', index=False)"
   ]
  }
 ],
 "metadata": {
  "kernelspec": {
   "display_name": "Python 3",
   "language": "python",
   "name": "python3"
  },
  "language_info": {
   "codemirror_mode": {
    "name": "ipython",
    "version": 3
   },
   "file_extension": ".py",
   "mimetype": "text/x-python",
   "name": "python",
   "nbconvert_exporter": "python",
   "pygments_lexer": "ipython3",
   "version": "3.8.3"
  }
 },
 "nbformat": 4,
 "nbformat_minor": 4
}
